{
 "cells": [
  {
   "cell_type": "code",
   "execution_count": 1,
   "id": "1a98aa30",
   "metadata": {},
   "outputs": [],
   "source": [
    "import pandas as pd"
   ]
  },
  {
   "cell_type": "code",
   "execution_count": 2,
   "id": "9fe3339f",
   "metadata": {},
   "outputs": [],
   "source": [
    "test = pd.read_csv('results/results_order2_test_mae.csv')\n",
    "jazz = pd.read_csv('results/results_order2_jazz_mae.csv')"
   ]
  },
  {
   "cell_type": "code",
   "execution_count": 3,
   "id": "a951976c",
   "metadata": {},
   "outputs": [],
   "source": [
    "test = test.drop(['HRHE_o', 'HRC_o'], axis=1)\n",
    "jazz = jazz.drop(['HRHE_o', 'HRC_o'], axis=1)"
   ]
  },
  {
   "cell_type": "code",
   "execution_count": 4,
   "id": "c0b65dd7",
   "metadata": {},
   "outputs": [],
   "source": [
    "test.to_latex('results/results_order2_test_mae.tex', index=False, float_format=\"%.4f\")\n",
    "jazz.to_latex('results/results_order2_jazz_mae.tex', index=False, float_format=\"%.4f\")"
   ]
  },
  {
   "cell_type": "code",
   "execution_count": 5,
   "id": "4403bbd4",
   "metadata": {},
   "outputs": [],
   "source": [
    "test = pd.read_csv('results/results_order2_test_means.csv')\n",
    "jazz = pd.read_csv('results/results_order2_jazz_means.csv')\n",
    "test = test.drop(['HRHE_o', 'HRC_o'], axis=1)\n",
    "jazz = jazz.drop(['HRHE_o', 'HRC_o'], axis=1)\n",
    "\n",
    "# average across rows\n",
    "test['row_mean'] = test.select_dtypes(include='number').mean(axis=1)\n",
    "jazz['row_mean'] = jazz.select_dtypes(include='number').mean(axis=1)\n",
    "\n",
    "# sort rows by the new average column in ascending order and reset the index\n",
    "test = test.sort_values('row_mean', ascending=True).reset_index(drop=True)\n",
    "jazz = jazz.sort_values('row_mean', ascending=True).reset_index(drop=True)\n",
    "\n",
    "test.to_latex('results/results_order2_test_means.tex', index=False, float_format=\"%.4f\")\n",
    "jazz.to_latex('results/results_order2_jazz_means.tex', index=False, float_format=\"%.4f\")"
   ]
  }
 ],
 "metadata": {
  "kernelspec": {
   "display_name": "torch",
   "language": "python",
   "name": "python3"
  },
  "language_info": {
   "codemirror_mode": {
    "name": "ipython",
    "version": 3
   },
   "file_extension": ".py",
   "mimetype": "text/x-python",
   "name": "python",
   "nbconvert_exporter": "python",
   "pygments_lexer": "ipython3",
   "version": "3.12.2"
  }
 },
 "nbformat": 4,
 "nbformat_minor": 5
}
