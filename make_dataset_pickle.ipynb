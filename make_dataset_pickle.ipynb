{
 "cells": [
  {
   "cell_type": "code",
   "execution_count": 1,
   "id": "6af1278f",
   "metadata": {},
   "outputs": [
    {
     "name": "stderr",
     "output_type": "stream",
     "text": [
      "/home/maximos/miniconda3/envs/torch/lib/python3.12/site-packages/tqdm/auto.py:21: TqdmWarning: IProgress not found. Please update jupyter and ipywidgets. See https://ipywidgets.readthedocs.io/en/stable/user_install.html\n",
      "  from .autonotebook import tqdm as notebook_tqdm\n"
     ]
    }
   ],
   "source": [
    "from data_utils import CSGridMLMDataset\n",
    "from GridMLM_tokenizers import CSGridMLMTokenizer"
   ]
  },
  {
   "cell_type": "code",
   "execution_count": 2,
   "id": "baa2c8e8",
   "metadata": {},
   "outputs": [],
   "source": [
    "# tokenizer = CSGridMLMTokenizer(fixed_length=256, intertwine_bar_info=False, trim_start=True)\n",
    "# tokenizer_noPCs = CSGridMLMTokenizer(fixed_length=256,use_pc_roll=False, intertwine_bar_info=False, trim_start=True)"
   ]
  },
  {
   "cell_type": "code",
   "execution_count": 3,
   "id": "bf59d115",
   "metadata": {},
   "outputs": [],
   "source": [
    "train_dir = '/media/maindisk/data/hooktheory_midi_hr/CA_train'\n",
    "val_dir = '/media/maindisk/data/hooktheory_midi_hr/CA_test'\n",
    "# train_dir = '/media/maindisk/data/hooktheory_midi_hr/all12_train'"
   ]
  },
  {
   "cell_type": "code",
   "execution_count": 4,
   "id": "f289365d",
   "metadata": {},
   "outputs": [
    {
     "name": "stdout",
     "output_type": "stream",
     "text": [
      "Frontloading data.\n"
     ]
    },
    {
     "name": "stderr",
     "output_type": "stream",
     "text": [
      "  0%|          | 0/14676 [00:00<?, ?it/s]"
     ]
    },
    {
     "name": "stderr",
     "output_type": "stream",
     "text": [
      " 60%|█████▉    | 8736/14676 [04:23<01:54, 51.96it/s]"
     ]
    },
    {
     "name": "stdout",
     "output_type": "stream",
     "text": [
      "Problem in: /media/maindisk/data/hooktheory_midi_hr/CA_train/2518_bruce-rowland_jessicas-theme_intro-and-verse.mid\n",
      "cannot unpack non-iterable float object\n"
     ]
    },
    {
     "name": "stderr",
     "output_type": "stream",
     "text": [
      " 81%|████████▏ | 11955/14676 [06:00<00:54, 49.54it/s]"
     ]
    },
    {
     "name": "stdout",
     "output_type": "stream",
     "text": [
      "Problem in: /media/maindisk/data/hooktheory_midi_hr/CA_train/4022_deftones_battle-axe_pre-chorus-and-chorus.mid\n",
      "cannot unpack non-iterable float object\n"
     ]
    },
    {
     "name": "stderr",
     "output_type": "stream",
     "text": [
      "100%|██████████| 14676/14676 [07:22<00:00, 33.19it/s]\n"
     ]
    },
    {
     "name": "stdout",
     "output_type": "stream",
     "text": [
      "Frontloading data.\n"
     ]
    },
    {
     "name": "stderr",
     "output_type": "stream",
     "text": [
      "100%|██████████| 758/758 [00:15<00:00, 48.43it/s]\n"
     ]
    }
   ],
   "source": [
    "tokenizer = CSGridMLMTokenizer(\n",
    "    fixed_length=80,\n",
    "    quantization='4th',\n",
    "    intertwine_bar_info=True,\n",
    "    trim_start=False,\n",
    "    use_pc_roll=True,\n",
    "    use_full_range_melody=False\n",
    ")\n",
    "train_dataset = CSGridMLMDataset(train_dir, tokenizer, name_suffix='DE')\n",
    "val_dataset = CSGridMLMDataset(val_dir, tokenizer, name_suffix='DE')\n",
    "# train_dataset = CSGridMLMDataset(train_dir, tokenizer, name_suffix='MLMH_bar_qt')"
   ]
  }
 ],
 "metadata": {
  "kernelspec": {
   "display_name": "torch",
   "language": "python",
   "name": "python3"
  },
  "language_info": {
   "codemirror_mode": {
    "name": "ipython",
    "version": 3
   },
   "file_extension": ".py",
   "mimetype": "text/x-python",
   "name": "python",
   "nbconvert_exporter": "python",
   "pygments_lexer": "ipython3",
   "version": "3.12.2"
  }
 },
 "nbformat": 4,
 "nbformat_minor": 5
}
