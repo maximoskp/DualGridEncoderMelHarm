{
 "cells": [
  {
   "cell_type": "code",
   "execution_count": 1,
   "id": "28e8d768",
   "metadata": {},
   "outputs": [],
   "source": [
    "import os\n",
    "import pandas as pd\n",
    "import matplotlib.pyplot as plt\n",
    "\n",
    "def compare_csv_column(folder_path: str, column_name: str, output_path: str):\n",
    "    \"\"\"\n",
    "    Compare the same column across multiple CSV files in a folder and plot their values.\n",
    "    \n",
    "    Parameters\n",
    "    ----------\n",
    "    folder_path : str\n",
    "        Path to the folder containing CSV files.\n",
    "    column_name : str\n",
    "        The name of the column to compare.\n",
    "    output_path : str\n",
    "        File path to save the resulting plot (e.g., 'output/comparison.png').\n",
    "    \"\"\"\n",
    "    # Collect all CSV files in the folder\n",
    "    csv_files = [f for f in os.listdir(folder_path) if f.endswith('.csv')]\n",
    "    \n",
    "    if not csv_files:\n",
    "        raise ValueError(f\"No CSV files found in {folder_path}\")\n",
    "    \n",
    "    plt.figure(figsize=(10, 6))\n",
    "    \n",
    "    for file in csv_files:\n",
    "        file_path = os.path.join(folder_path, file)\n",
    "        try:\n",
    "            df = pd.read_csv(file_path)\n",
    "            \n",
    "            if column_name not in df.columns:\n",
    "                print(f\"⚠️ Skipping {file} — column '{column_name}' not found.\")\n",
    "                continue\n",
    "            \n",
    "            plt.plot(df[column_name].values, label=file)\n",
    "        \n",
    "        except Exception as e:\n",
    "            print(f\"❌ Error reading {file}: {e}\")\n",
    "    # for plotting the number of visible tokens\n",
    "    ax = plt.gca()\n",
    "    ax2 = ax.twinx()\n",
    "    ax2.plot(df['n_vis'].values, 'k--', label='n_vis')\n",
    "    ax2.set_ylabel('n_vis', color='k')\n",
    "    ax2.tick_params(axis='y', colors='k')\n",
    "    # plt.title(f\"Comparison of '{column_name}' Across Files\")\n",
    "    # combine legends from both axes\n",
    "    handles1, labels1 = ax.get_legend_handles_labels()\n",
    "    handles2, labels2 = ax2.get_legend_handles_labels()\n",
    "    ax.legend(handles1 + handles2, labels1 + labels2, loc='best')\n",
    "\n",
    "    # plt.title(f\"Comparison of '{column_name}' Across Files\")\n",
    "    ax.set_xlabel(\"Epoch\")\n",
    "    ax.set_ylabel(column_name)\n",
    "    ax.grid(True)\n",
    "    plt.tight_layout()\n",
    "    \n",
    "    # Ensure output directory exists\n",
    "    os.makedirs(os.path.dirname(output_path), exist_ok=True)\n",
    "    \n",
    "    plt.savefig(output_path, dpi=300)\n",
    "    plt.close()\n",
    "    print(f\"✅ Plot saved to {output_path}\")\n"
   ]
  },
  {
   "cell_type": "code",
   "execution_count": 2,
   "id": "e4be72a5",
   "metadata": {},
   "outputs": [
    {
     "name": "stdout",
     "output_type": "stream",
     "text": [
      "✅ Plot saved to figs/train_accuracy.png\n",
      "✅ Plot saved to figs/train_loss.png\n"
     ]
    }
   ],
   "source": [
    "compare_csv_column(\n",
    "    folder_path=\"results/all_training\",\n",
    "    column_name=\"train_acc\",\n",
    "    output_path=\"figs/train_accuracy.png\"\n",
    ")\n",
    "compare_csv_column(\n",
    "    folder_path=\"results/all_training\",\n",
    "    column_name=\"train_loss\",\n",
    "    output_path=\"figs/train_loss.png\"\n",
    ")\n"
   ]
  },
  {
   "cell_type": "code",
   "execution_count": 3,
   "id": "35e65cb6",
   "metadata": {},
   "outputs": [
    {
     "name": "stdout",
     "output_type": "stream",
     "text": [
      "✅ Plot saved to figs/val_accuracy.png\n",
      "✅ Plot saved to figs/val_loss.png\n"
     ]
    }
   ],
   "source": [
    "compare_csv_column(\n",
    "    folder_path=\"results/all_training\",\n",
    "    column_name=\"val_acc\",\n",
    "    output_path=\"figs/val_accuracy.png\"\n",
    ")\n",
    "compare_csv_column(\n",
    "    folder_path=\"results/all_training\",\n",
    "    column_name=\"val_loss\",\n",
    "    output_path=\"figs/val_loss.png\"\n",
    ")\n"
   ]
  }
 ],
 "metadata": {
  "kernelspec": {
   "display_name": "torch",
   "language": "python",
   "name": "python3"
  },
  "language_info": {
   "codemirror_mode": {
    "name": "ipython",
    "version": 3
   },
   "file_extension": ".py",
   "mimetype": "text/x-python",
   "name": "python",
   "nbconvert_exporter": "python",
   "pygments_lexer": "ipython3",
   "version": "3.12.2"
  }
 },
 "nbformat": 4,
 "nbformat_minor": 5
}
